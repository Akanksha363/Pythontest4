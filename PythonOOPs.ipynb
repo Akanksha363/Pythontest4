{
  "nbformat": 4,
  "nbformat_minor": 0,
  "metadata": {
    "colab": {
      "provenance": []
    },
    "kernelspec": {
      "name": "python3",
      "display_name": "Python 3"
    },
    "language_info": {
      "name": "python"
    }
  },
  "cells": [
    {
      "cell_type": "markdown",
      "source": [
        "                                                        **THEORETICAL Q/A**"
      ],
      "metadata": {
        "id": "49_exka8f2wb"
      }
    },
    {
      "cell_type": "markdown",
      "source": [
        "1. What is Object-Oriented Programming (OOP)?\n",
        "  - OOP is a programming paradigm based on objects which contain data\n",
        "    (attributes) and functions (methods).\n",
        "  - OOP promotes modularity, reusability, and flexibility in software\n",
        "    development.\n",
        "  "
      ],
      "metadata": {
        "id": "e6NJ0z1afkoh"
      }
    },
    {
      "source": [
        "#Example\n",
        "class Car:\n",
        "    def __init__(self, brand): # Changed _init_ to __init__\n",
        "        self.brand = brand\n",
        "    def drive(self):\n",
        "        return f\"{self.brand} is driving\"\n",
        "\n",
        "my_car = Car(\"Toyota\")\n",
        "print(my_car.drive())  # Output: Toyota is driving"
      ],
      "cell_type": "code",
      "metadata": {
        "colab": {
          "base_uri": "https://localhost:8080/"
        },
        "id": "h8bWiug6ijWJ",
        "outputId": "689b2d9d-f1da-40c6-8ba8-9cb4d6f11899"
      },
      "execution_count": 26,
      "outputs": [
        {
          "output_type": "stream",
          "name": "stdout",
          "text": [
            "Toyota is driving\n"
          ]
        }
      ]
    },
    {
      "cell_type": "markdown",
      "source": [
        "2. What is a class in OOP?\n",
        " - A class is a blueprint for creating objects, defining attributes and  \n",
        "   methods.\n",
        ""
      ],
      "metadata": {
        "id": "jT0m_yQ3jCzJ"
      }
    },
    {
      "cell_type": "code",
      "source": [
        "#Example\n",
        "class Car:\n",
        "      def __init__(self, make):\n",
        "         self.make = make"
      ],
      "metadata": {
        "id": "K7ELgNVjjg03"
      },
      "execution_count": 25,
      "outputs": []
    },
    {
      "cell_type": "markdown",
      "source": [
        "3. What is an object in OOP?\n",
        "- An object is an instance of a class, like a specific real-world entity. It  \n",
        "  has properties (data) and behaviors (methods) defined by its class.\n",
        "       "
      ],
      "metadata": {
        "id": "VzZRFZlkj9Li"
      }
    },
    {
      "source": [
        "class Dog:  # Blueprint (class)\n",
        "    def __init__(self, name):\n",
        "        self.name = name\n",
        "\n",
        "    def bark(self):\n",
        "        print(\"Woof!\")\n",
        "\n",
        "my_dog = Dog(\"Buddy\")  # Instance (object)"
      ],
      "cell_type": "code",
      "metadata": {
        "id": "HXRDjpj8fxhJ"
      },
      "execution_count": 42,
      "outputs": []
    },
    {
      "cell_type": "markdown",
      "source": [
        "4. What is the difference between abstraction and encapsulation?\n",
        "- Abstraction shows only essential information to the user and hides internal\n",
        "  details.\n",
        "- Encapsulation bundles data and methods that operate on that data within a\n",
        "  single unit (like a class), protecting data from outside access.\n",
        "          Abstraction: using len()\n",
        "          Encapsulation: private variables\n"
      ],
      "metadata": {
        "id": "DfBuNQH_md4N"
      }
    },
    {
      "source": [
        "#Example\n",
        "class BankAccount:\n",
        "    def __init__(self, balance):\n",
        "        self.__balance = balance  # Encapsulated attribute\n",
        "\n",
        "    def deposit(self, amount):\n",
        "        self.__balance += amount\n",
        "\n",
        "    def get_balance(self):  # Getter method\n",
        "        return self.__balance\n",
        "\n",
        "# Usage\n",
        "account = BankAccount(1000)\n",
        "account.deposit(500)  # Abstraction: user doesn't need internal balance logic\n",
        "print(account.get_balance())  # Accessing balance via getter method"
      ],
      "cell_type": "code",
      "metadata": {
        "colab": {
          "base_uri": "https://localhost:8080/"
        },
        "id": "JipkSiMBoR-V",
        "outputId": "fb566b41-23b9-4ab9-8046-fc3586157b7c"
      },
      "execution_count": 28,
      "outputs": [
        {
          "output_type": "stream",
          "name": "stdout",
          "text": [
            "1500\n"
          ]
        }
      ]
    },
    {
      "cell_type": "markdown",
      "source": [
        "5. What are dunder methods in Python?\n",
        "- Dunder methods (double underscore methods) in Python are special methods with\n",
        "  names like __init__ or __str__. They define object behavior for built-in operations like object creation, printing, and length calculation.\n",
        "- Example:  \n",
        "   __str__ lets you define how an object is represented as a string\n",
        "   when printed using print().\n",
        "\n"
      ],
      "metadata": {
        "id": "AtOrgSd2orRu"
      }
    },
    {
      "cell_type": "markdown",
      "source": [
        "6. Explain the concept of inheritance in OOP.\n",
        "- Inheritance allows a class to derive properties from another.\n",
        "-Inheritance is a fundamental principle in OOP where a class (called the\n",
        " subclass or derived class) can inherit properties (attributes and methods) from another class (called the superclass or base class). This promotes code reuse and reduces redundancy.\n"
      ],
      "metadata": {
        "id": "HN-Cm_NMqDG1"
      }
    },
    {
      "source": [
        "#Example\n",
        "class Animal:  # Define the Animal class first\n",
        "    pass  # You can leave it empty for now\n",
        "\n",
        "class Dog(Animal):\n",
        "    pass\n",
        "# where Dog inherits from Animal. (This is a comment and not Python code)"
      ],
      "cell_type": "code",
      "metadata": {
        "id": "YkbKuXBPrxmb"
      },
      "execution_count": 30,
      "outputs": []
    },
    {
      "cell_type": "markdown",
      "source": [
        "7. What is polymorphism in OOP?\n",
        "- Polymorphism allows objects to take multiple forms, allows a single interface\n",
        "  to be used for different underlying forms e.g., a method behaving\n",
        "  differently.\n",
        "- This promotes code organization and reduces the need for type-specific code.\n",
        "- Example: len('string') and len([1, 2]) both work"
      ],
      "metadata": {
        "id": "Qcw4fnT4r-5S"
      }
    },
    {
      "source": [
        "#Example\n",
        "# With numbers, + performs addition\n",
        "result1 = 5 + 3  # result1 will be 8\n",
        "\n",
        "# With strings, + performs concatenation\n",
        "result2 = \"Hello\" + \" \" + \"World!\" # result2 will be \"Hello World!\""
      ],
      "cell_type": "code",
      "metadata": {
        "id": "EO4GWuWFWH6i"
      },
      "execution_count": 32,
      "outputs": []
    },
    {
      "cell_type": "markdown",
      "source": [
        "8. How is encapsulation achieved in Python?\n",
        "- Encapsulation is achieved using private (_attr) and protected (__attr)\n",
        "    variables in classes to control access."
      ],
      "metadata": {
        "id": "r3VguyR6s-j0"
      }
    },
    {
      "cell_type": "markdown",
      "source": [
        "9. What is a constructor in Python?\n",
        "  - A constructor (__init__) initializes object attributes."
      ],
      "metadata": {
        "id": "Nb5wkN5CtGZB"
      }
    },
    {
      "source": [
        "class Person:\n",
        "    def __init__(self, name):\n",
        "        self.name = name"
      ],
      "cell_type": "code",
      "metadata": {
        "id": "1iApqCPKtTwR"
      },
      "execution_count": null,
      "outputs": []
    },
    {
      "cell_type": "markdown",
      "source": [
        "10. What are class and static methods in Python?\n",
        "\n",
        "- Class Methods:\n",
        "  * Bound to the class, not instances.\n",
        "  * Used for class-level operations.\n",
        "  * First argument is the class (cls).\n",
        "  * Defined with @classmethod.\n",
        "\n",
        "- Static Methods:\n",
        "  * Like regular functions within a class.\n",
        "  * Not bound to class or instances.\n",
        "  * No special first argument.\n",
        "  * Defined with @staticmethod.\n",
        "  * Mainly for organization."
      ],
      "metadata": {
        "id": "jilAtF0iteCa"
      }
    },
    {
      "cell_type": "markdown",
      "source": [
        "11. What is method overloading in Python?\n",
        "- Method overloading uses default arguments to mimic multiple behaviors.\n"
      ],
      "metadata": {
        "id": "ihpuKNpevCGM"
      }
    },
    {
      "source": [
        "#Example\n",
        "def add(a, b=0):\n",
        "    return a + b\n",
        "\n",
        "# Examples\n",
        "result1 = add(5, 3)  # Both arguments provided, result is 8\n",
        "result2 = add(7)    # Only 'a' provided, 'b' defaults to 0, result is 7"
      ],
      "cell_type": "code",
      "metadata": {
        "id": "qcuiJT_VvU5l"
      },
      "execution_count": 31,
      "outputs": []
    },
    {
      "cell_type": "markdown",
      "source": [
        "12. What is method overriding in OOP?\n",
        "- Method overriding lets a subclass redefine a method inherited from its parent\n",
        "  class.\n",
        "- This concise definition captures the essence of method overriding:\n",
        "\n",
        "  * Subclass: The class that inherits from another class.\n",
        "  * Redefine: The subclass provides its own version of a method.\n",
        "  * Inherited: The method is originally defined in the parent class and passed\n",
        "     down to the subclass."
      ],
      "metadata": {
        "id": "3YRx6i3MvsCT"
      }
    },
    {
      "source": [
        "class Shape:\n",
        "    def area(self):\n",
        "        print(\"Calculating area...\")\n",
        "\n",
        "class Rectangle(Shape):\n",
        "    def area(self):\n",
        "        print(\"Area of rectangle: length * width\")\n",
        "\n",
        "class Circle(Shape):\n",
        "    def area(self):\n",
        "        print(\"Area of circle: pi * radius^2\")\n",
        "\n",
        "# Create objects\n",
        "rectangle = Rectangle()\n",
        "circle = Circle()\n",
        "\n",
        "# Call the area method\n",
        "rectangle.area()  # Output: Area of rectangle: length * width\n",
        "circle.area()    # Output: Area of circle: pi * radius^2"
      ],
      "cell_type": "code",
      "metadata": {
        "colab": {
          "base_uri": "https://localhost:8080/"
        },
        "id": "T_MZrMlSXTxE",
        "outputId": "548abb1c-234d-4299-bde6-3d772c7635d8"
      },
      "execution_count": 33,
      "outputs": [
        {
          "output_type": "stream",
          "name": "stdout",
          "text": [
            "Area of rectangle: length * width\n",
            "Area of circle: pi * radius^2\n"
          ]
        }
      ]
    },
    {
      "cell_type": "markdown",
      "source": [
        "13. What is a property decorator in Python?\n",
        " - The property decorator (@property) is used to define methods in a class as\n",
        "   read-only properties.\n",
        " - A property decorator in Python is used to define getters, setters, and\n",
        "   deleters for class attributes, making them accessible like regular attributes.\n",
        "        \n"
      ],
      "metadata": {
        "id": "31WZ9mRWwV9e"
      }
    },
    {
      "source": [
        "#1st coding\n",
        "class Person:\n",
        "    def __init__(self, age):\n",
        "        self._age = age  # Note the underscore prefix for the internal attribute\n",
        "\n",
        "    @property\n",
        "    def age(self):\n",
        "        return self._age\n",
        "\n",
        "    @age.setter\n",
        "    def age(self, value):\n",
        "        if value >= 0:\n",
        "            self._age = value\n",
        "        else:\n",
        "            raise ValueError(\"Age cannot be negative\")"
      ],
      "cell_type": "code",
      "metadata": {
        "id": "-wfrGAz0wmvX"
      },
      "execution_count": 23,
      "outputs": []
    },
    {
      "source": [
        "#2nd coding\n",
        "#Python program to illustrate the use of @property decorator\n",
        "\n",
        "# defining class\n",
        "class Portal:\n",
        "\n",
        "     # defining __init__method\n",
        "     def __init__(self):\n",
        "        self.__name = ''\n",
        "\n",
        "     # Using property decorator\n",
        "\n",
        "     # Getter method\n",
        "     def name(self): # Added an extra space for indentation to align with __init__\n",
        "        return self.__name\n",
        "\n",
        "     # setter method\n",
        "     def name(self, val):\n",
        "        self.__name = val\n",
        "\n",
        "     # deleter method\n",
        "     def name(self):\n",
        "        del self.__name"
      ],
      "cell_type": "code",
      "metadata": {
        "id": "922FK59rx8X3"
      },
      "execution_count": 24,
      "outputs": []
    },
    {
      "cell_type": "markdown",
      "source": [
        "14. Why is polymorphism important in OOP?\n",
        "- Polymorphism is important in OOP as it allows methods to perform differently\n",
        "  based on the object invoking them, ensuring flexibility and reusability.\n"
      ],
      "metadata": {
        "id": "ifNrWo_Yww0S"
      }
    },
    {
      "cell_type": "code",
      "source": [
        "#Example\n",
        "class Dog:\n",
        "  def sound(self):\n",
        "    return \"Bark\"\n",
        "\n",
        "class Cat:\n",
        "  def sound(self):\n",
        "    return \"Meow\"\n",
        "\n",
        "for animal in [Dog(), Cat()]:\n",
        "  print(animal.sound())"
      ],
      "metadata": {
        "colab": {
          "base_uri": "https://localhost:8080/"
        },
        "id": "ftoC-07QKPji",
        "outputId": "95bb0632-60f6-4cd5-cedf-3db5bd645773"
      },
      "execution_count": 3,
      "outputs": [
        {
          "output_type": "stream",
          "name": "stdout",
          "text": [
            "Bark\n",
            "Meow\n"
          ]
        }
      ]
    },
    {
      "cell_type": "markdown",
      "source": [
        "15. What is an abstract class in Python?\n",
        " -  An abstract class in Python is a class that contains one or more abstract\n",
        "    methods, which must be implemented by its subclasses.\n",
        ""
      ],
      "metadata": {
        "id": "4KLs7yXcw7Gh"
      }
    },
    {
      "cell_type": "code",
      "source": [
        "#Example\n",
        "from abc import ABC, abstractmethod\n",
        "class Animal(ABC):\n",
        "  @abstractmethod\n",
        "  def sound(self):\n",
        "     pass"
      ],
      "metadata": {
        "id": "rH4laRNELYSo"
      },
      "execution_count": 4,
      "outputs": []
    },
    {
      "cell_type": "markdown",
      "source": [
        "16. What are the advantages of OOP?\n",
        " - OOP improves code reusability, modularity, and scalability. It supports   \n",
        "   real-world modeling.\n",
        "        * Modularity: Easier to manage complex programs.\n",
        "        * Code Reusability: Through inheritance and polymorphism.\n",
        "        * Data Security: Encapsulation hides data."
      ],
      "metadata": {
        "id": "ORa3BpmRxOLV"
      }
    },
    {
      "cell_type": "markdown",
      "source": [
        "17. What is the difference between a class variable and an instance variable?\n",
        "- Class variables are shared across instances; instance variables are unique to\n",
        "   each object.\n",
        "- Example: class-level counter vs object attributes."
      ],
      "metadata": {
        "id": "PShajNy9xUio"
      }
    },
    {
      "cell_type": "code",
      "source": [
        "#Example\n",
        "class Example:\n",
        "   class_var = \"Shared\"\n",
        "   def __init__(self, instance_var):\n",
        "     self.instance_var = instance_var"
      ],
      "metadata": {
        "id": "w0qec1VzMck6"
      },
      "execution_count": 5,
      "outputs": []
    },
    {
      "cell_type": "markdown",
      "source": [
        "18. What is multiple inheritance in Python?\n",
        "- Multiple inheritance in Python allows a class to inherit from more than one\n",
        "  parent class, enabling shared functionality.\n"
      ],
      "metadata": {
        "id": "AXhzO7LixfnX"
      }
    },
    {
      "cell_type": "code",
      "source": [
        "#Example\n",
        "class A:\n",
        "  def method_A(self):\n",
        "    return \"A\"\n",
        "class B:\n",
        "  def method_B(self):\n",
        "    return \"B\"\n",
        "class C(A, B):\n",
        "    pass"
      ],
      "metadata": {
        "id": "WkaXWZP3M6ch"
      },
      "execution_count": 6,
      "outputs": []
    },
    {
      "cell_type": "markdown",
      "source": [
        "19. Explain the purpose of '__str__' and '__repr__' methods in Python.\n",
        " - '__str__' returns a readable(user-friendly) string representation of an object.\n",
        " -' __repr__' returns an official string representation for debugging.\n",
        " - Example: str(object) vs repr(object)."
      ],
      "metadata": {
        "id": "affmwIpDxp52"
      }
    },
    {
      "cell_type": "code",
      "source": [
        "#Example\n",
        "class Example:\n",
        "   def __repr__(self):\n",
        "     return \"Example()\""
      ],
      "metadata": {
        "id": "aKoMwxyPNjf-"
      },
      "execution_count": 9,
      "outputs": []
    },
    {
      "cell_type": "markdown",
      "source": [
        "20. What is the significance of the 'super()' function in Python?\n",
        "-  super() is used to call methods from the parent class, ensuring proper\n",
        "   initialization and method resolution in inheritance."
      ],
      "metadata": {
        "id": "5VCvmqfIx3aY"
      }
    },
    {
      "cell_type": "code",
      "source": [
        "#Example\n",
        "class A:\n",
        "   def method(self):\n",
        "     return \"Parent\"\n",
        "\n",
        "class B(A):\n",
        "   def method(self):\n",
        "     return super().method() + \" Child\""
      ],
      "metadata": {
        "id": "E4uQSXcMObx8"
      },
      "execution_count": 12,
      "outputs": []
    },
    {
      "cell_type": "markdown",
      "source": [
        "21. What is the significance of the '__del__' method in Python?\n",
        "-  The __del__() method in Python is a destructor method, called when an object\n",
        "   is about to be destroyed, to perform cleanup."
      ],
      "metadata": {
        "id": "qRIb0AzWx-iC"
      }
    },
    {
      "cell_type": "code",
      "source": [
        "#Example\n",
        "class Example:\n",
        "   def __del__(self):\n",
        "     print(\"Object destroyed\")"
      ],
      "metadata": {
        "id": "3sTU7q8JPMUW"
      },
      "execution_count": 13,
      "outputs": []
    },
    {
      "cell_type": "markdown",
      "source": [
        "22. What is the difference between @staticmethod and @classmethod in Python?\n",
        " - @staticmethod: A method not bound to the class or instance.\n",
        " - @classmethod:  A method bound to the class, which takes `cls` as its first\n",
        "      argument.\n",
        "       - Example:\n",
        "         * Factory methods for creating objects."
      ],
      "metadata": {
        "id": "uSGzdmLqyKO9"
      }
    },
    {
      "cell_type": "markdown",
      "source": [
        "23. How does polymorphism work in Python with inheritance?\n",
        "- Polymorphism with inheritance enables method overriding and dynamic behavior.\n",
        "      * ( Polymorphism allows methods to be redefined in subclasses )"
      ],
      "metadata": {
        "id": "uumCPBqCyXhI"
      }
    },
    {
      "cell_type": "code",
      "source": [
        "#Example\n",
        "class Parent:\n",
        "   def method(self):\n",
        "     return \"Parent\"\n",
        "\n",
        "class Child(Parent):\n",
        "   def method(self):\n",
        "     return \"Child\""
      ],
      "metadata": {
        "id": "ITeyjF_3QLhq"
      },
      "execution_count": 15,
      "outputs": []
    },
    {
      "cell_type": "markdown",
      "source": [
        "24. What is method chaining in Python OOP?\n",
        "- Method chaining allows multiple methods to be called sequentially in a single\n",
        "  statement.\n",
        "\n",
        "- Example: obj.method1().method2().\n"
      ],
      "metadata": {
        "id": "uk6jDRvGyjCt"
      }
    },
    {
      "cell_type": "code",
      "source": [
        "#Example\n",
        "class Example:\n",
        "   def method1(self):\n",
        "     return self"
      ],
      "metadata": {
        "id": "XI-zGuX_RLj8"
      },
      "execution_count": 16,
      "outputs": []
    },
    {
      "cell_type": "markdown",
      "source": [
        "25. What is the purpose of the '__call__' method in Python?\n",
        "-  The __call__ method allows an object to be called as a function.\n"
      ],
      "metadata": {
        "id": "tqKZcewUyve2"
      }
    },
    {
      "cell_type": "code",
      "source": [
        " #Example\n",
        "class A:\n",
        "    def __call__(self):\n",
        "         print('Called')"
      ],
      "metadata": {
        "id": "G-xDzXa5RnVX"
      },
      "execution_count": 20,
      "outputs": []
    },
    {
      "cell_type": "markdown",
      "source": [
        "                                               **PRACTICAL Q/A**"
      ],
      "metadata": {
        "id": "kqwH39JLzADQ"
      }
    },
    {
      "cell_type": "markdown",
      "source": [
        "1. Create a parent class Animal with a method speak() that prints a generic\n",
        "  message. Create a child class Dog that overrides the speak() method to print \"Bark!\""
      ],
      "metadata": {
        "id": "H_vYwXhQhTWc"
      }
    },
    {
      "cell_type": "code",
      "source": [
        "class Animal:\n",
        "   def speak(self):\n",
        "      print(\"Generic animal sound\")\n",
        "\n",
        "class Dog(Animal):\n",
        "   def speak(self):\n",
        "      print(\"Bark!\")\n",
        "# Example usage\n",
        "dog = Dog()\n",
        "dog.speak()"
      ],
      "metadata": {
        "id": "MGn9kAYnXZSJ",
        "colab": {
          "base_uri": "https://localhost:8080/"
        },
        "outputId": "cf7ed06d-a875-4e09-a937-083e97191ae3"
      },
      "execution_count": null,
      "outputs": [
        {
          "output_type": "stream",
          "name": "stdout",
          "text": [
            "Bark!\n"
          ]
        }
      ]
    },
    {
      "cell_type": "markdown",
      "source": [
        "2. Write a program to create an abstract class Shape with a method area().\n",
        "   Derive classes Circle and Rectangle from it and implement the area() method in both."
      ],
      "metadata": {
        "id": "5RnaehhIikjp"
      }
    },
    {
      "source": [
        "from abc import ABC, abstractmethod # Import ABC and abstractmethod from abc\n",
        "\n",
        "class Shape(ABC):\n",
        "    @abstractmethod\n",
        "    def area(self):\n",
        "        pass\n",
        "\n",
        "class Circle(Shape):\n",
        "    def __init__(self, radius):\n",
        "        self.radius = radius\n",
        "    def area(self):\n",
        "        return 3.14 * self.radius ** 2\n",
        "\n",
        "class Rectangle(Shape):\n",
        "    def __init__(self, length, width):\n",
        "        self.length = length\n",
        "        self.width = width\n",
        "    def area(self):\n",
        "        return self.length * self.width\n",
        "\n",
        "# Example usage\n",
        "circle = Circle(5)\n",
        "print(circle.area())\n",
        "rectangle = Rectangle(4, 6)\n",
        "print(rectangle.area())"
      ],
      "cell_type": "code",
      "metadata": {
        "colab": {
          "base_uri": "https://localhost:8080/"
        },
        "id": "hzssULHPlJnK",
        "outputId": "4bee2bfd-6956-44ee-db5d-b93bcdf37962"
      },
      "execution_count": null,
      "outputs": [
        {
          "output_type": "stream",
          "name": "stdout",
          "text": [
            "78.5\n",
            "24\n"
          ]
        }
      ]
    },
    {
      "cell_type": "markdown",
      "source": [
        "3. Implement a multilevel inheritance scenario where a class Vehicle has an\n",
        "   attribute type. Derive a class Car and further derive a class Electric car that adds a battery attribute."
      ],
      "metadata": {
        "id": "6flmSQ4ul6BR"
      }
    },
    {
      "cell_type": "code",
      "source": [
        "class Vehicle:\n",
        "   def __init__(self, vehicle_type):\n",
        "      self.vehicle_type = vehicle_type\n",
        "\n",
        "class Car(Vehicle):\n",
        "   def __init__(self, vehicle_type, brand):\n",
        "      super().__init__(vehicle_type)\n",
        "      self.brand = brand\n",
        "\n",
        "class ElectricCar(Car):\n",
        "   def __init__(self, vehicle_type, brand, battery_capacity):\n",
        "      super().__init__(vehicle_type, brand)\n",
        "      self.battery_capacity = battery_capacity\n",
        "\n",
        "# Example usage\n",
        "tesla = ElectricCar(\"Car\", \"Tesla\", \"100 kWh\")\n",
        "print(tesla.vehicle_type, tesla.brand, tesla.battery_capacity)"
      ],
      "metadata": {
        "colab": {
          "base_uri": "https://localhost:8080/"
        },
        "id": "CMMBDDXzl_e9",
        "outputId": "2115caf0-a725-44b6-b955-1ee5054aba65"
      },
      "execution_count": null,
      "outputs": [
        {
          "output_type": "stream",
          "name": "stdout",
          "text": [
            "Car Tesla 100 kWh\n"
          ]
        }
      ]
    },
    {
      "cell_type": "markdown",
      "source": [
        "4. Implement a multilevel inheritance scenario where a class Vehicle has an\n",
        "   attribute type. Derive a class Car and further derive a class Electric car that adds a battery attribute.\n"
      ],
      "metadata": {
        "id": "vmiYFQ3zoAKg"
      }
    },
    {
      "cell_type": "code",
      "source": [
        "class Vehicle:\n",
        "   def __init__(self, vehicle_type):\n",
        "      self.vehicle_type = vehicle_type\n",
        "\n",
        "class Car(Vehicle):\n",
        "   def __init__(self, vehicle_type, brand):\n",
        "      super().__init__(vehicle_type)\n",
        "      self.brand = brand\n",
        "\n",
        "class ElectricCar(Car):\n",
        "   def __init__(self, vehicle_type, brand, battery_capacity):\n",
        "      super().__init__(vehicle_type, brand)\n",
        "      self.battery_capacity = battery_capacity\n",
        "\n",
        "# Example usage\n",
        "tesla = ElectricCar(\"Car\", \"Tesla\", \"100 kWh\")\n",
        "print(tesla.vehicle_type, tesla.brand, tesla.battery_capacity)"
      ],
      "metadata": {
        "colab": {
          "base_uri": "https://localhost:8080/"
        },
        "id": "60bFcjLjoQLb",
        "outputId": "2332a65d-1c33-4861-8aba-86c857176e51"
      },
      "execution_count": null,
      "outputs": [
        {
          "output_type": "stream",
          "name": "stdout",
          "text": [
            "Car Tesla 100 kWh\n"
          ]
        }
      ]
    },
    {
      "cell_type": "markdown",
      "source": [
        "5. Write a Program to demonstrate encapsulation by creating a class BankAccount\n",
        "   with private attributes balance and methods to deposit, withdraw, and check balance."
      ],
      "metadata": {
        "id": "Fb9VIw-sorUD"
      }
    },
    {
      "cell_type": "code",
      "source": [
        "class BankAccount:\n",
        "   def __init__(self, balance=0):\n",
        "     self.__balance = balance\n",
        "\n",
        "   def deposit(self, amount):\n",
        "    self.__balance += amount\n",
        "\n",
        "   def withdraw(self, amount):\n",
        "    if amount <= self.__balance:\n",
        "       self.__balance -= amount\n",
        "    else:\n",
        "       print(\"Insufficient balance\")\n",
        "\n",
        "   def check_balance(self):\n",
        "       return self.__balance\n",
        "\n",
        "# Example usage\n",
        "account = BankAccount(200)\n",
        "account.deposit(80)\n",
        "account.withdraw(70)\n",
        "print(account.check_balance())"
      ],
      "metadata": {
        "colab": {
          "base_uri": "https://localhost:8080/"
        },
        "id": "ls3TaEBQpHqe",
        "outputId": "e1915ed2-4467-4388-96b7-fb26adddd0e4"
      },
      "execution_count": null,
      "outputs": [
        {
          "output_type": "stream",
          "name": "stdout",
          "text": [
            "210\n"
          ]
        }
      ]
    },
    {
      "cell_type": "markdown",
      "source": [
        "6. Demonstrate runtime polymorphism using a method play() in a base class\n",
        "   instrument. Derive classes Guitar and piano that implement their own version of play()."
      ],
      "metadata": {
        "id": "993UNCkoqDBC"
      }
    },
    {
      "cell_type": "code",
      "source": [
        "class Instrument:\n",
        "   def play(self):\n",
        "      print(\"Playing instrument\")\n",
        "\n",
        "class Guitar(Instrument):\n",
        "   def play(self):\n",
        "      print(\"Strumming guitar\")\n",
        "\n",
        "class Piano(Instrument):\n",
        "   def play(self):\n",
        "      print(\"Playing piano\")\n",
        "\n",
        "# Example usage\n",
        "guitar = Guitar()\n",
        "guitar.play()\n",
        "piano = Piano()\n",
        "piano.play()"
      ],
      "metadata": {
        "colab": {
          "base_uri": "https://localhost:8080/"
        },
        "id": "3JMtFm7vqeLu",
        "outputId": "40ef4441-8a32-4831-f399-dbede14b0a5f"
      },
      "execution_count": null,
      "outputs": [
        {
          "output_type": "stream",
          "name": "stdout",
          "text": [
            "Strumming guitar\n",
            "Playing piano\n"
          ]
        }
      ]
    },
    {
      "cell_type": "markdown",
      "source": [
        "7. Create a class MathOperations with a class method add_numbers() to add two\n",
        "   numbers and a static method subtract_numbers() to subtract two numbers."
      ],
      "metadata": {
        "id": "YnXzE6HUrLvW"
      }
    },
    {
      "cell_type": "code",
      "source": [
        "class MathOperations:\n",
        "    @classmethod\n",
        "    def add_numbers(cls, a, b):\n",
        "      return a + b\n",
        "\n",
        "    @staticmethod\n",
        "    def subtract_numbers(a, b):\n",
        "      return a - b\n",
        "\n",
        "# Example usage\n",
        "print(MathOperations.add_numbers(5, 3))\n",
        "print(MathOperations.subtract_numbers(10, 4))\n"
      ],
      "metadata": {
        "colab": {
          "base_uri": "https://localhost:8080/"
        },
        "id": "FNYwwA7Fr6cx",
        "outputId": "e9fca962-371d-494a-84dd-fef5964f5a98"
      },
      "execution_count": null,
      "outputs": [
        {
          "output_type": "stream",
          "name": "stdout",
          "text": [
            "8\n",
            "6\n"
          ]
        }
      ]
    },
    {
      "cell_type": "markdown",
      "source": [
        "8. Implement a class person with a class method to count the total numbers of\n",
        "   person created."
      ],
      "metadata": {
        "id": "lRLgi8e2siMI"
      }
    },
    {
      "cell_type": "code",
      "source": [
        "class Person:\n",
        "   count = 0\n",
        "\n",
        "   def __init__(self):\n",
        "        Person.count += 1\n",
        "\n",
        "   @classmethod\n",
        "   def get_count(cls):\n",
        "        return cls.count\n",
        "\n",
        "# Example usage\n",
        "p1 = Person()\n",
        "p2 = Person()\n",
        "print(Person.get_count())\n"
      ],
      "metadata": {
        "colab": {
          "base_uri": "https://localhost:8080/"
        },
        "id": "98tfsQ9qsbUl",
        "outputId": "0f9450ee-1687-4fc2-ce3d-f00ff959405f"
      },
      "execution_count": null,
      "outputs": [
        {
          "output_type": "stream",
          "name": "stdout",
          "text": [
            "2\n"
          ]
        }
      ]
    },
    {
      "cell_type": "markdown",
      "source": [
        "9. Write a class fraction with attributes numerator and denominator. Override\n",
        "   the str nethod to display the fraction as \"numertaor/denominator\"."
      ],
      "metadata": {
        "id": "FDPaIHd-tfCx"
      }
    },
    {
      "cell_type": "code",
      "source": [
        "class Fraction:\n",
        "  def __init__(self, numerator, denominator):\n",
        "      self.numerator = numerator\n",
        "      self.denominator = denominator\n",
        "\n",
        "  def __str__(self):\n",
        "      return f\"{self.numerator}/{self.denominator}\"\n",
        "\n",
        "# Example usage\n",
        "fraction = Fraction(3, 4)\n",
        "print(fraction)"
      ],
      "metadata": {
        "colab": {
          "base_uri": "https://localhost:8080/"
        },
        "id": "F5i0ml9Uto70",
        "outputId": "c11866e8-7426-4ae7-fc67-8133de113259"
      },
      "execution_count": null,
      "outputs": [
        {
          "output_type": "stream",
          "name": "stdout",
          "text": [
            "3/4\n"
          ]
        }
      ]
    },
    {
      "cell_type": "markdown",
      "source": [
        "10. Demonstrate operator overloading by creating a class vector and overriding the add method to add two vectors."
      ],
      "metadata": {
        "id": "N9IldFLCt2xI"
      }
    },
    {
      "cell_type": "code",
      "source": [
        "class Vector:\n",
        "    def __init__(self, x, y):\n",
        "      self.x = x\n",
        "      self.y = y\n",
        "\n",
        "    def __add__(self, other):\n",
        "      return Vector(self.x + other.x, self.y + other.y)\n",
        "\n",
        "    def __str__(self):\n",
        "      return f\"Vector({self.x}, {self.y})\"\n",
        "\n",
        "# Example usage\n",
        "v1 = Vector(1, 2)\n",
        "v2 = Vector(3, 4)\n",
        "v3 = v1 + v2\n",
        "print(v3)"
      ],
      "metadata": {
        "colab": {
          "base_uri": "https://localhost:8080/"
        },
        "id": "phqkXSf3t8ya",
        "outputId": "d5f14e30-42b4-4adb-8e1a-648605cce9eb"
      },
      "execution_count": null,
      "outputs": [
        {
          "output_type": "stream",
          "name": "stdout",
          "text": [
            "Vector(4, 6)\n"
          ]
        }
      ]
    },
    {
      "cell_type": "markdown",
      "source": [
        "11. Create a class person with attributes name and age. Add a method greet()\n",
        "    that prints \"Hello, my name is {name} and I am {age} years old.\""
      ],
      "metadata": {
        "id": "w5NcUNM2uLHQ"
      }
    },
    {
      "cell_type": "code",
      "source": [
        "class Person:\n",
        "    def __init__(self, name, age):\n",
        "       self.name = name\n",
        "       self.age = age\n",
        "\n",
        "    def greet(self):\n",
        "       print(f\"Hello, my name is {self.name} and I am {self.age} years old.\")\n",
        "\n",
        "# Example usage\n",
        "person = Person(\"Anushka\", 27)\n",
        "person.greet()"
      ],
      "metadata": {
        "colab": {
          "base_uri": "https://localhost:8080/"
        },
        "id": "YEvY52CiuMZp",
        "outputId": "e21b9891-815f-4c83-af92-54fcb614e134"
      },
      "execution_count": null,
      "outputs": [
        {
          "output_type": "stream",
          "name": "stdout",
          "text": [
            "Hello, my name is Anushka and I am 27 years old.\n"
          ]
        }
      ]
    },
    {
      "cell_type": "markdown",
      "source": [
        "12. Implement a class Student with attributes name and grades.Create a method\n",
        "    average_grade() to compute the average of the grades."
      ],
      "metadata": {
        "id": "UFChXnL-urIo"
      }
    },
    {
      "cell_type": "code",
      "source": [
        "class Student:\n",
        "    def __init__(self, name, grades):\n",
        "       self.name = name\n",
        "       self.grades = grades\n",
        "\n",
        "    def average_grade(self):\n",
        "      return sum(self.grades) / len(self.grades)\n",
        "\n",
        "# Example usage\n",
        "student = Student(\"David\", [69, 82, 98])\n",
        "print(student.average_grade())"
      ],
      "metadata": {
        "colab": {
          "base_uri": "https://localhost:8080/"
        },
        "id": "cxSTzEsXutDj",
        "outputId": "7ad36858-7bac-4914-d797-34a0a2aec008"
      },
      "execution_count": null,
      "outputs": [
        {
          "output_type": "stream",
          "name": "stdout",
          "text": [
            "83.0\n"
          ]
        }
      ]
    },
    {
      "cell_type": "markdown",
      "source": [
        "13. Create a class Rectangle with methods set_dimensions() to set the  \n",
        "    dimensions and area() to calculate the area."
      ],
      "metadata": {
        "id": "yXXEseNqvIr0"
      }
    },
    {
      "cell_type": "code",
      "source": [
        "class Rectangle:\n",
        "   def __init__(self):\n",
        "      self.length = 0\n",
        "      self.width = 0\n",
        "\n",
        "   def set_dimensions(self, l, w):\n",
        "      self.length = l\n",
        "      self.width = w\n",
        "\n",
        "   def area(self):\n",
        "      return self.length * self.width\n",
        "\n",
        "# Example usage\n",
        "newRectangle = Rectangle()\n",
        "newRectangle.set_dimensions(14, 5)\n",
        "print(newRectangle.area())"
      ],
      "metadata": {
        "colab": {
          "base_uri": "https://localhost:8080/"
        },
        "id": "rqqiXNivvKud",
        "outputId": "8ee65bf0-369b-45cb-b30b-aacc20e8d85b"
      },
      "execution_count": null,
      "outputs": [
        {
          "output_type": "stream",
          "name": "stdout",
          "text": [
            "70\n"
          ]
        }
      ]
    },
    {
      "cell_type": "markdown",
      "source": [
        "14. Create a class Employee with a method calculate_salary()that computes the\n",
        "    salary based on hours worked and hourly rate. Create a derived class Manager that adds a bonus to the salary."
      ],
      "metadata": {
        "id": "nI3ErTwqvvL5"
      }
    },
    {
      "cell_type": "code",
      "source": [
        "class Employee:\n",
        "    def __init__(self, hours_worked, hourly_rate):\n",
        "       self.hours_worked = hours_worked\n",
        "       self.hourly_rate = hourly_rate\n",
        "\n",
        "    def calculate_salary(self):\n",
        "       return self.hours_worked * self.hourly_rate\n",
        "\n",
        "class Manager(Employee):\n",
        "    def __init__(self, hours_worked, hourly_rate, bonus):\n",
        "       super().__init__(hours_worked, hourly_rate)\n",
        "       self.bonus = bonus\n",
        "\n",
        "    def calculate_salary(self):\n",
        "      return super().calculate_salary() + self.bonus\n",
        "\n",
        "# Example usage\n",
        "manager = Manager(50, 60, 200)\n",
        "print(manager.calculate_salary())"
      ],
      "metadata": {
        "colab": {
          "base_uri": "https://localhost:8080/"
        },
        "id": "U_uNrkNNvw91",
        "outputId": "7423c73b-e19b-430c-de5c-44229879d292"
      },
      "execution_count": null,
      "outputs": [
        {
          "output_type": "stream",
          "name": "stdout",
          "text": [
            "3200\n"
          ]
        }
      ]
    },
    {
      "cell_type": "markdown",
      "source": [
        "           **another solution of Q14.**"
      ],
      "metadata": {
        "id": "FWn8vZezZEPZ"
      }
    },
    {
      "source": [
        "from dataclasses import dataclass\n",
        "\n",
        "@dataclass\n",
        "class Employee:\n",
        "    hours_worked: int\n",
        "    hourly_rate: int\n",
        "\n",
        "    def calculate_salary(self):\n",
        "       return self.hours_worked * self.hourly_rate\n",
        "\n",
        "@dataclass\n",
        "class Manager(Employee):\n",
        "    bonus: int\n",
        "\n",
        "    def calculate_salary(self):\n",
        "      return super().calculate_salary() + self.bonus"
      ],
      "cell_type": "code",
      "metadata": {
        "id": "D2kFUV8XA0IG"
      },
      "execution_count": 35,
      "outputs": []
    },
    {
      "cell_type": "markdown",
      "source": [
        "15. Create a class Product with attributes name, price, and quantity. Implement\n",
        "    a method total_price() that calculates the total price of the product."
      ],
      "metadata": {
        "id": "UmdY0kf0w3cJ"
      }
    },
    {
      "source": [
        "class Product:\n",
        "    def __init__(self, name, price, quantity): # Changed _init_ to __init__\n",
        "        self.name = name\n",
        "        self.price = price\n",
        "        self.quantity = quantity\n",
        "\n",
        "    def total_price(self):\n",
        "        return self.price * self.quantity\n",
        "\n",
        "# Example usage\n",
        "product = Product(\"Laptop\", 1000, 5)\n",
        "print(product.total_price())"
      ],
      "cell_type": "code",
      "metadata": {
        "colab": {
          "base_uri": "https://localhost:8080/"
        },
        "id": "ONe6OeXx4ECM",
        "outputId": "0ac166d1-4fef-41df-ca07-376abde85ffc"
      },
      "execution_count": 44,
      "outputs": [
        {
          "output_type": "stream",
          "name": "stdout",
          "text": [
            "5000\n"
          ]
        }
      ]
    },
    {
      "cell_type": "markdown",
      "source": [
        "16. Create a class Animal with an abstract method sound(). Create two derived\n",
        "    classes Cow and Sheep that implement the sound() method'."
      ],
      "metadata": {
        "id": "so1Rb3aC4N0S"
      }
    },
    {
      "cell_type": "code",
      "source": [
        "from abc import ABC, abstractmethod\n",
        "\n",
        "class Animal(ABC):\n",
        "    @abstractmethod\n",
        "    def sound(self):\n",
        "        pass\n",
        "\n",
        "class Cow(Animal):\n",
        "    def sound(self):\n",
        "        return \"Moo\"\n",
        "\n",
        "class Sheep(Animal):\n",
        "    def sound(self):\n",
        "        return \"Baa\"\n",
        "\n",
        "# Example usage\n",
        "cow = Cow()\n",
        "sheep = Sheep()\n",
        "print(cow.sound())\n",
        "print(sheep.sound())"
      ],
      "metadata": {
        "colab": {
          "base_uri": "https://localhost:8080/"
        },
        "id": "g6SVHmo14PPo",
        "outputId": "18c1585b-3a4d-4cb8-8f02-2173464f6f75"
      },
      "execution_count": 38,
      "outputs": [
        {
          "output_type": "stream",
          "name": "stdout",
          "text": [
            "Moo\n",
            "Baa\n"
          ]
        }
      ]
    },
    {
      "cell_type": "markdown",
      "source": [
        "17. Create a class Book with attributes title, author, and year_published. Add  \n",
        "    a method get_book_info()that returns a formatted string with the book's details."
      ],
      "metadata": {
        "id": "Xb60UCeM4WNo"
      }
    },
    {
      "source": [
        "class Book:\n",
        "    def __init__(self, title, author, year_published): # Changed _init_ to __init__\n",
        "        self.title = title\n",
        "        self.author = author\n",
        "        self.year_published = year_published\n",
        "\n",
        "    def get_book_info(self):\n",
        "        return f\"'{self.title}' by {self.author}, published in {self.year_published}\"\n",
        "\n",
        "# Example usage\n",
        "book = Book(\"The Alchemist\", \"Paulo Coelho\", 1988)\n",
        "print(book.get_book_info())"
      ],
      "cell_type": "code",
      "metadata": {
        "colab": {
          "base_uri": "https://localhost:8080/"
        },
        "id": "l5nBxr574wd5",
        "outputId": "f9c0b6ce-e845-46f6-fdc9-0069dcd6967b"
      },
      "execution_count": 43,
      "outputs": [
        {
          "output_type": "stream",
          "name": "stdout",
          "text": [
            "'The Alchemist' by Paulo Coelho, published in 1988\n"
          ]
        }
      ]
    },
    {
      "cell_type": "markdown",
      "source": [
        "18. Create a class House with attributes address and price. Create a derived\n",
        "    class Mansion that adds an attribute number_of_rooms."
      ],
      "metadata": {
        "id": "BRbEfhYQ43h_"
      }
    },
    {
      "source": [
        "class House:\n",
        "    def __init__(self, address, price): # Changed _init_ to __init__\n",
        "        self.address = address\n",
        "        self.price = price\n",
        "\n",
        "class Mansion(House):\n",
        "    def __init__(self, address, price, number_of_rooms): # Changed _init_ to __init__\n",
        "        super().__init__(address, price)\n",
        "        self.number_of_rooms = number_of_rooms\n",
        "\n",
        "# Example usage\n",
        "mansion = Mansion(\"138 Galaxy Dawn\", 5000000, 10)\n",
        "print(mansion.address)\n",
        "print(mansion.price)\n",
        "print(mansion.number_of_rooms)"
      ],
      "cell_type": "code",
      "metadata": {
        "colab": {
          "base_uri": "https://localhost:8080/"
        },
        "id": "JE0DK4da5TRV",
        "outputId": "32fc8810-fc09-4db3-87f7-efb21c8767f9"
      },
      "execution_count": 40,
      "outputs": [
        {
          "output_type": "stream",
          "name": "stdout",
          "text": [
            "138 Galaxy Dawn\n",
            "5000000\n",
            "10\n"
          ]
        }
      ]
    }
  ]
}